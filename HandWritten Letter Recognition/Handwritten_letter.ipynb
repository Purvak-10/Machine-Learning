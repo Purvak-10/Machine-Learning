{
 "cells": [
  {
   "cell_type": "code",
   "execution_count": 2,
   "id": "82137df5",
   "metadata": {},
   "outputs": [],
   "source": [
    "import tensorflow as tf\n",
    "from tensorflow import keras\n"
   ]
  },
  {
   "cell_type": "code",
   "execution_count": 10,
   "id": "4c0ef55f",
   "metadata": {},
   "outputs": [],
   "source": [
    "import matplotlib.pyplot as plt\n",
    "%matplotlib inline\n",
    "import numpy as np\n",
    "import pandas as pd\n",
    "from sklearn.model_selection import train_test_split"
   ]
  },
  {
   "cell_type": "code",
   "execution_count": 11,
   "id": "e53079f9",
   "metadata": {},
   "outputs": [
    {
     "data": {
      "text/html": [
       "<div>\n",
       "<style scoped>\n",
       "    .dataframe tbody tr th:only-of-type {\n",
       "        vertical-align: middle;\n",
       "    }\n",
       "\n",
       "    .dataframe tbody tr th {\n",
       "        vertical-align: top;\n",
       "    }\n",
       "\n",
       "    .dataframe thead th {\n",
       "        text-align: right;\n",
       "    }\n",
       "</style>\n",
       "<table border=\"1\" class=\"dataframe\">\n",
       "  <thead>\n",
       "    <tr style=\"text-align: right;\">\n",
       "      <th></th>\n",
       "      <th>0</th>\n",
       "      <th>0.1</th>\n",
       "      <th>0.2</th>\n",
       "      <th>0.3</th>\n",
       "      <th>0.4</th>\n",
       "      <th>0.5</th>\n",
       "      <th>0.6</th>\n",
       "      <th>0.7</th>\n",
       "      <th>0.8</th>\n",
       "      <th>0.9</th>\n",
       "      <th>...</th>\n",
       "      <th>0.639</th>\n",
       "      <th>0.640</th>\n",
       "      <th>0.641</th>\n",
       "      <th>0.642</th>\n",
       "      <th>0.643</th>\n",
       "      <th>0.644</th>\n",
       "      <th>0.645</th>\n",
       "      <th>0.646</th>\n",
       "      <th>0.647</th>\n",
       "      <th>0.648</th>\n",
       "    </tr>\n",
       "  </thead>\n",
       "  <tbody>\n",
       "    <tr>\n",
       "      <th>0</th>\n",
       "      <td>0</td>\n",
       "      <td>0</td>\n",
       "      <td>0</td>\n",
       "      <td>0</td>\n",
       "      <td>0</td>\n",
       "      <td>0</td>\n",
       "      <td>0</td>\n",
       "      <td>0</td>\n",
       "      <td>0</td>\n",
       "      <td>0</td>\n",
       "      <td>...</td>\n",
       "      <td>0</td>\n",
       "      <td>0</td>\n",
       "      <td>0</td>\n",
       "      <td>0</td>\n",
       "      <td>0</td>\n",
       "      <td>0</td>\n",
       "      <td>0</td>\n",
       "      <td>0</td>\n",
       "      <td>0</td>\n",
       "      <td>0</td>\n",
       "    </tr>\n",
       "    <tr>\n",
       "      <th>1</th>\n",
       "      <td>0</td>\n",
       "      <td>0</td>\n",
       "      <td>0</td>\n",
       "      <td>0</td>\n",
       "      <td>0</td>\n",
       "      <td>0</td>\n",
       "      <td>0</td>\n",
       "      <td>0</td>\n",
       "      <td>0</td>\n",
       "      <td>0</td>\n",
       "      <td>...</td>\n",
       "      <td>0</td>\n",
       "      <td>0</td>\n",
       "      <td>0</td>\n",
       "      <td>0</td>\n",
       "      <td>0</td>\n",
       "      <td>0</td>\n",
       "      <td>0</td>\n",
       "      <td>0</td>\n",
       "      <td>0</td>\n",
       "      <td>0</td>\n",
       "    </tr>\n",
       "    <tr>\n",
       "      <th>2</th>\n",
       "      <td>0</td>\n",
       "      <td>0</td>\n",
       "      <td>0</td>\n",
       "      <td>0</td>\n",
       "      <td>0</td>\n",
       "      <td>0</td>\n",
       "      <td>0</td>\n",
       "      <td>0</td>\n",
       "      <td>0</td>\n",
       "      <td>0</td>\n",
       "      <td>...</td>\n",
       "      <td>0</td>\n",
       "      <td>0</td>\n",
       "      <td>0</td>\n",
       "      <td>0</td>\n",
       "      <td>0</td>\n",
       "      <td>0</td>\n",
       "      <td>0</td>\n",
       "      <td>0</td>\n",
       "      <td>0</td>\n",
       "      <td>0</td>\n",
       "    </tr>\n",
       "    <tr>\n",
       "      <th>3</th>\n",
       "      <td>0</td>\n",
       "      <td>0</td>\n",
       "      <td>0</td>\n",
       "      <td>0</td>\n",
       "      <td>0</td>\n",
       "      <td>0</td>\n",
       "      <td>0</td>\n",
       "      <td>0</td>\n",
       "      <td>0</td>\n",
       "      <td>0</td>\n",
       "      <td>...</td>\n",
       "      <td>0</td>\n",
       "      <td>0</td>\n",
       "      <td>0</td>\n",
       "      <td>0</td>\n",
       "      <td>0</td>\n",
       "      <td>0</td>\n",
       "      <td>0</td>\n",
       "      <td>0</td>\n",
       "      <td>0</td>\n",
       "      <td>0</td>\n",
       "    </tr>\n",
       "    <tr>\n",
       "      <th>4</th>\n",
       "      <td>0</td>\n",
       "      <td>0</td>\n",
       "      <td>0</td>\n",
       "      <td>0</td>\n",
       "      <td>0</td>\n",
       "      <td>0</td>\n",
       "      <td>0</td>\n",
       "      <td>0</td>\n",
       "      <td>0</td>\n",
       "      <td>0</td>\n",
       "      <td>...</td>\n",
       "      <td>0</td>\n",
       "      <td>0</td>\n",
       "      <td>0</td>\n",
       "      <td>0</td>\n",
       "      <td>0</td>\n",
       "      <td>0</td>\n",
       "      <td>0</td>\n",
       "      <td>0</td>\n",
       "      <td>0</td>\n",
       "      <td>0</td>\n",
       "    </tr>\n",
       "  </tbody>\n",
       "</table>\n",
       "<p>5 rows × 785 columns</p>\n",
       "</div>"
      ],
      "text/plain": [
       "   0  0.1  0.2  0.3  0.4  0.5  0.6  0.7  0.8  0.9  ...  0.639  0.640  0.641  \\\n",
       "0  0    0    0    0    0    0    0    0    0    0  ...      0      0      0   \n",
       "1  0    0    0    0    0    0    0    0    0    0  ...      0      0      0   \n",
       "2  0    0    0    0    0    0    0    0    0    0  ...      0      0      0   \n",
       "3  0    0    0    0    0    0    0    0    0    0  ...      0      0      0   \n",
       "4  0    0    0    0    0    0    0    0    0    0  ...      0      0      0   \n",
       "\n",
       "   0.642  0.643  0.644  0.645  0.646  0.647  0.648  \n",
       "0      0      0      0      0      0      0      0  \n",
       "1      0      0      0      0      0      0      0  \n",
       "2      0      0      0      0      0      0      0  \n",
       "3      0      0      0      0      0      0      0  \n",
       "4      0      0      0      0      0      0      0  \n",
       "\n",
       "[5 rows x 785 columns]"
      ]
     },
     "execution_count": 11,
     "metadata": {},
     "output_type": "execute_result"
    }
   ],
   "source": [
    "data=pd.read_csv(\"A_Z Handwritten Data.csv\")\n",
    "data.head()"
   ]
  },
  {
   "cell_type": "code",
   "execution_count": 15,
   "id": "64218408",
   "metadata": {},
   "outputs": [
    {
     "data": {
      "text/html": [
       "<div>\n",
       "<style scoped>\n",
       "    .dataframe tbody tr th:only-of-type {\n",
       "        vertical-align: middle;\n",
       "    }\n",
       "\n",
       "    .dataframe tbody tr th {\n",
       "        vertical-align: top;\n",
       "    }\n",
       "\n",
       "    .dataframe thead th {\n",
       "        text-align: right;\n",
       "    }\n",
       "</style>\n",
       "<table border=\"1\" class=\"dataframe\">\n",
       "  <thead>\n",
       "    <tr style=\"text-align: right;\">\n",
       "      <th></th>\n",
       "      <th>0</th>\n",
       "      <th>0.1</th>\n",
       "      <th>0.2</th>\n",
       "      <th>0.3</th>\n",
       "      <th>0.4</th>\n",
       "      <th>0.5</th>\n",
       "      <th>0.6</th>\n",
       "      <th>0.7</th>\n",
       "      <th>0.8</th>\n",
       "      <th>0.9</th>\n",
       "      <th>...</th>\n",
       "      <th>0.639</th>\n",
       "      <th>0.640</th>\n",
       "      <th>0.641</th>\n",
       "      <th>0.642</th>\n",
       "      <th>0.643</th>\n",
       "      <th>0.644</th>\n",
       "      <th>0.645</th>\n",
       "      <th>0.646</th>\n",
       "      <th>0.647</th>\n",
       "      <th>0.648</th>\n",
       "    </tr>\n",
       "  </thead>\n",
       "  <tbody>\n",
       "    <tr>\n",
       "      <th>0</th>\n",
       "      <td>0</td>\n",
       "      <td>0</td>\n",
       "      <td>0</td>\n",
       "      <td>0</td>\n",
       "      <td>0</td>\n",
       "      <td>0</td>\n",
       "      <td>0</td>\n",
       "      <td>0</td>\n",
       "      <td>0</td>\n",
       "      <td>0</td>\n",
       "      <td>...</td>\n",
       "      <td>0</td>\n",
       "      <td>0</td>\n",
       "      <td>0</td>\n",
       "      <td>0</td>\n",
       "      <td>0</td>\n",
       "      <td>0</td>\n",
       "      <td>0</td>\n",
       "      <td>0</td>\n",
       "      <td>0</td>\n",
       "      <td>0</td>\n",
       "    </tr>\n",
       "    <tr>\n",
       "      <th>1</th>\n",
       "      <td>0</td>\n",
       "      <td>0</td>\n",
       "      <td>0</td>\n",
       "      <td>0</td>\n",
       "      <td>0</td>\n",
       "      <td>0</td>\n",
       "      <td>0</td>\n",
       "      <td>0</td>\n",
       "      <td>0</td>\n",
       "      <td>0</td>\n",
       "      <td>...</td>\n",
       "      <td>0</td>\n",
       "      <td>0</td>\n",
       "      <td>0</td>\n",
       "      <td>0</td>\n",
       "      <td>0</td>\n",
       "      <td>0</td>\n",
       "      <td>0</td>\n",
       "      <td>0</td>\n",
       "      <td>0</td>\n",
       "      <td>0</td>\n",
       "    </tr>\n",
       "    <tr>\n",
       "      <th>2</th>\n",
       "      <td>0</td>\n",
       "      <td>0</td>\n",
       "      <td>0</td>\n",
       "      <td>0</td>\n",
       "      <td>0</td>\n",
       "      <td>0</td>\n",
       "      <td>0</td>\n",
       "      <td>0</td>\n",
       "      <td>0</td>\n",
       "      <td>0</td>\n",
       "      <td>...</td>\n",
       "      <td>0</td>\n",
       "      <td>0</td>\n",
       "      <td>0</td>\n",
       "      <td>0</td>\n",
       "      <td>0</td>\n",
       "      <td>0</td>\n",
       "      <td>0</td>\n",
       "      <td>0</td>\n",
       "      <td>0</td>\n",
       "      <td>0</td>\n",
       "    </tr>\n",
       "    <tr>\n",
       "      <th>3</th>\n",
       "      <td>0</td>\n",
       "      <td>0</td>\n",
       "      <td>0</td>\n",
       "      <td>0</td>\n",
       "      <td>0</td>\n",
       "      <td>0</td>\n",
       "      <td>0</td>\n",
       "      <td>0</td>\n",
       "      <td>0</td>\n",
       "      <td>0</td>\n",
       "      <td>...</td>\n",
       "      <td>0</td>\n",
       "      <td>0</td>\n",
       "      <td>0</td>\n",
       "      <td>0</td>\n",
       "      <td>0</td>\n",
       "      <td>0</td>\n",
       "      <td>0</td>\n",
       "      <td>0</td>\n",
       "      <td>0</td>\n",
       "      <td>0</td>\n",
       "    </tr>\n",
       "    <tr>\n",
       "      <th>4</th>\n",
       "      <td>0</td>\n",
       "      <td>0</td>\n",
       "      <td>0</td>\n",
       "      <td>0</td>\n",
       "      <td>0</td>\n",
       "      <td>0</td>\n",
       "      <td>0</td>\n",
       "      <td>0</td>\n",
       "      <td>0</td>\n",
       "      <td>0</td>\n",
       "      <td>...</td>\n",
       "      <td>0</td>\n",
       "      <td>0</td>\n",
       "      <td>0</td>\n",
       "      <td>0</td>\n",
       "      <td>0</td>\n",
       "      <td>0</td>\n",
       "      <td>0</td>\n",
       "      <td>0</td>\n",
       "      <td>0</td>\n",
       "      <td>0</td>\n",
       "    </tr>\n",
       "  </tbody>\n",
       "</table>\n",
       "<p>5 rows × 785 columns</p>\n",
       "</div>"
      ],
      "text/plain": [
       "   0  0.1  0.2  0.3  0.4  0.5  0.6  0.7  0.8  0.9  ...  0.639  0.640  0.641  \\\n",
       "0  0    0    0    0    0    0    0    0    0    0  ...      0      0      0   \n",
       "1  0    0    0    0    0    0    0    0    0    0  ...      0      0      0   \n",
       "2  0    0    0    0    0    0    0    0    0    0  ...      0      0      0   \n",
       "3  0    0    0    0    0    0    0    0    0    0  ...      0      0      0   \n",
       "4  0    0    0    0    0    0    0    0    0    0  ...      0      0      0   \n",
       "\n",
       "   0.642  0.643  0.644  0.645  0.646  0.647  0.648  \n",
       "0      0      0      0      0      0      0      0  \n",
       "1      0      0      0      0      0      0      0  \n",
       "2      0      0      0      0      0      0      0  \n",
       "3      0      0      0      0      0      0      0  \n",
       "4      0      0      0      0      0      0      0  \n",
       "\n",
       "[5 rows x 785 columns]"
      ]
     },
     "execution_count": 15,
     "metadata": {},
     "output_type": "execute_result"
    }
   ],
   "source": [
    "frame=pd.DataFrame(data)\n",
    "frame.head()"
   ]
  },
  {
   "cell_type": "code",
   "execution_count": 16,
   "id": "11bba093",
   "metadata": {},
   "outputs": [
    {
     "data": {
      "text/plain": [
       "((372450, 785), (372450, 785))"
      ]
     },
     "execution_count": 16,
     "metadata": {},
     "output_type": "execute_result"
    }
   ],
   "source": [
    "frame.shape , data.shape"
   ]
  },
  {
   "cell_type": "markdown",
   "id": "9d296892",
   "metadata": {},
   "source": [
    "## Splitting the data"
   ]
  },
  {
   "cell_type": "code",
   "execution_count": 17,
   "id": "18c0d06f",
   "metadata": {},
   "outputs": [],
   "source": [
    "x=frame.drop('0',axis=1)\n",
    "y=frame['0']"
   ]
  },
  {
   "cell_type": "code",
   "execution_count": 18,
   "id": "7c33a9f8",
   "metadata": {},
   "outputs": [
    {
     "data": {
      "text/plain": [
       "((372450, 784), (372450,))"
      ]
     },
     "execution_count": 18,
     "metadata": {},
     "output_type": "execute_result"
    }
   ],
   "source": [
    "x.shape , y.shape"
   ]
  },
  {
   "cell_type": "code",
   "execution_count": 19,
   "id": "5ca7359a",
   "metadata": {},
   "outputs": [],
   "source": [
    "x_train, x_test, y_train, y_test= train_test_split(x,y,test_size=0.2)"
   ]
  },
  {
   "cell_type": "code",
   "execution_count": 22,
   "id": "d52e6c89",
   "metadata": {},
   "outputs": [
    {
     "data": {
      "text/plain": [
       "(297960, 74490)"
      ]
     },
     "execution_count": 22,
     "metadata": {},
     "output_type": "execute_result"
    }
   ],
   "source": [
    "len(x_train), len(x_test)"
   ]
  },
  {
   "cell_type": "code",
   "execution_count": 27,
   "id": "184999a7",
   "metadata": {},
   "outputs": [
    {
     "data": {
      "text/plain": [
       "297960"
      ]
     },
     "execution_count": 27,
     "metadata": {},
     "output_type": "execute_result"
    }
   ],
   "source": [
    "x_train.shape[0]"
   ]
  },
  {
   "cell_type": "code",
   "execution_count": 29,
   "id": "e1d4b594",
   "metadata": {},
   "outputs": [],
   "source": [
    "x_train = np.reshape(x_train.values,(len(x_train), 28, 28))\n",
    "x_test = np.reshape(x_test.values, (len(x_test), 28, 28))"
   ]
  },
  {
   "cell_type": "code",
   "execution_count": 35,
   "id": "91e2cacb",
   "metadata": {},
   "outputs": [
    {
     "data": {
      "text/plain": [
       "(297960, 28, 28)"
      ]
     },
     "execution_count": 35,
     "metadata": {},
     "output_type": "execute_result"
    }
   ],
   "source": [
    "x_train.shape"
   ]
  },
  {
   "cell_type": "code",
   "execution_count": 38,
   "id": "8fb1112b",
   "metadata": {},
   "outputs": [
    {
     "data": {
      "text/plain": [
       "array([[  0,   0,   0,   0,   0,   0,   0,   0,   0,   0,   0,   0,   0,\n",
       "          0,   0,   0,   0,   0,   0,   0,   0,   0,   0,   0,   0,   0,\n",
       "          0,   0],\n",
       "       [  0,   0,   0,   0,   0,   0,   0,   0,   0,   0,   0,   0,   0,\n",
       "          0,   0,   0,   0,   0,   0,   0,   0,   0,   0,   0,   0,   0,\n",
       "          0,   0],\n",
       "       [  0,   0,   0,   0,   0,   0,   0,   0,   0,   0,   0,   0,   0,\n",
       "          0,   0,   0,   0,   0,   0,   0,   0,   0,   0,   0,   0,   0,\n",
       "          0,   0],\n",
       "       [  0,   0,   0,   0,   0,   0,   0,   0,   0,   0,   0,   0,   0,\n",
       "          0,   0,   0,   0,   0,   0,   0,   0,   0,   0,   0,   0,   0,\n",
       "          0,   0],\n",
       "       [  0,   0,   0,   0,   0,   0,   0,   0,   0,   0,   0,  17, 112,\n",
       "        240, 255, 255, 255, 147, 142,  53,   2,   0,   0,   0,   0,   0,\n",
       "          0,   0],\n",
       "       [  0,   0,   0,   0,   0,   0,   0,   0,   0,   0,   2, 177, 255,\n",
       "        255, 255, 255, 255, 255, 255, 255, 121,   0,   0,   0,   0,   0,\n",
       "          0,   0],\n",
       "       [  0,   0,   0,   0,   0,   0,   0,   0,   0,  30, 191, 255, 255,\n",
       "        255, 255, 255, 255, 255, 255, 255, 248,  33,   0,   0,   0,   0,\n",
       "          0,   0],\n",
       "       [  0,   0,   0,   0,   0,   0,   0,   0,  25, 212, 255, 255, 221,\n",
       "        191, 255, 255, 166, 147, 255, 255, 255, 218,  30,   0,   0,   0,\n",
       "          0,   0],\n",
       "       [  0,   0,   0,   0,   0,   0,   0,  74, 216, 255, 255, 218,  79,\n",
       "          0,  15, 192, 138,  71, 255, 255, 255, 255, 137,   4,   0,   0,\n",
       "          0,   0],\n",
       "       [  0,   0,   0,   0,   0,   0,  22, 209, 255, 255, 198,  33,   0,\n",
       "          0,   0,   0,   0,   7, 159, 243, 255, 255, 255,  33,   0,   0,\n",
       "          0,   0],\n",
       "       [  0,   0,   0,   0,   0,  22, 201, 255, 255, 188,  15,   0,   0,\n",
       "          0,   0,   0,   0,   0,   0, 200, 255, 255, 255,  70,   0,   0,\n",
       "          0,   0],\n",
       "       [  0,   0,   0,   0,   0,  67, 255, 255, 206,   6,   0,   0,   0,\n",
       "          0,   0,   0,   0,   0,   0, 200, 255, 255, 255, 243,   0,   0,\n",
       "          0,   0],\n",
       "       [  0,   0,   0,   0,  18, 221, 255, 230,  39,   0,   0,   0,   0,\n",
       "          0,   0,   0,   0,   0,   0,   0, 103, 138, 255, 255,   0,   0,\n",
       "          0,   0],\n",
       "       [  0,   0,   0,   0, 107, 255, 255, 122,   0,   0,   0,   0,   0,\n",
       "          0,   0,   0,   0,   0,   0,   0,   0,  44, 255, 255,   0,   0,\n",
       "          0,   0],\n",
       "       [  0,   0,   0,   0, 181, 255, 255,  85,   0,   0,   0,   0,   0,\n",
       "          0,   0,   0,   0,   0,   0,   0,   0,  44, 255, 255,   0,   0,\n",
       "          0,   0],\n",
       "       [  0,   0,   0,   0, 255, 255, 255,  11,   0,   0,   0,   0,   0,\n",
       "          0,   0,   0,   0,   0,   0,   0,   0,  44, 255, 255,   0,   0,\n",
       "          0,   0],\n",
       "       [  0,   0,   0,   0, 243, 255, 255,  11,   0,   0,   0,   0,   0,\n",
       "          0,   0,   0,   0,   0,   0,   0,   0, 106, 255, 193,   0,   0,\n",
       "          0,   0],\n",
       "       [  0,   0,   0,   0, 144, 255, 255,  85,   0,   0,   0,   0,   0,\n",
       "          0,   0,   0,   0,   0,   0,   0,  32, 222, 255,  70,   0,   0,\n",
       "          0,   0],\n",
       "       [  0,   0,   0,   0,  58, 255, 255, 122,   0,   0,   0,   0,   0,\n",
       "          0,   0,   0,   0,   0,   0,   0, 208, 255, 229,  22,   0,   0,\n",
       "          0,   0],\n",
       "       [  0,   0,   0,   0,  18, 221, 255, 230,  39,   0,   0,   0,   0,\n",
       "          0,   0,   0,   0,   0,  25, 202, 253, 255, 128,   0,   0,   0,\n",
       "          0,   0],\n",
       "       [  0,   0,   0,   0,   0,  59, 250, 255, 230,  53,  15,   0,   0,\n",
       "          0,   0,   0,  11,  48, 255, 255, 254, 187,   0,   0,   0,   0,\n",
       "          0,   0],\n",
       "       [  0,   0,   0,   0,   0,   0, 164, 253, 255, 255, 214, 170, 170,\n",
       "         71, 106, 136, 203, 255, 255, 255, 145,   0,   0,   0,   0,   0,\n",
       "          0,   0],\n",
       "       [  0,   0,   0,   0,   0,   0,   0, 113, 225, 255, 255, 255, 255,\n",
       "        255, 255, 255, 255, 255, 237, 131,   5,   0,   0,   0,   0,   0,\n",
       "          0,   0],\n",
       "       [  0,   0,   0,   0,   0,   0,   0,   0,  18,  68, 142, 142, 225,\n",
       "        255, 255, 225, 142,  33,  22,   0,   0,   0,   0,   0,   0,   0,\n",
       "          0,   0],\n",
       "       [  0,   0,   0,   0,   0,   0,   0,   0,   0,   0,   0,   0,   0,\n",
       "          0,   0,   0,   0,   0,   0,   0,   0,   0,   0,   0,   0,   0,\n",
       "          0,   0],\n",
       "       [  0,   0,   0,   0,   0,   0,   0,   0,   0,   0,   0,   0,   0,\n",
       "          0,   0,   0,   0,   0,   0,   0,   0,   0,   0,   0,   0,   0,\n",
       "          0,   0],\n",
       "       [  0,   0,   0,   0,   0,   0,   0,   0,   0,   0,   0,   0,   0,\n",
       "          0,   0,   0,   0,   0,   0,   0,   0,   0,   0,   0,   0,   0,\n",
       "          0,   0],\n",
       "       [  0,   0,   0,   0,   0,   0,   0,   0,   0,   0,   0,   0,   0,\n",
       "          0,   0,   0,   0,   0,   0,   0,   0,   0,   0,   0,   0,   0,\n",
       "          0,   0]], dtype=int64)"
      ]
     },
     "execution_count": 38,
     "metadata": {},
     "output_type": "execute_result"
    }
   ],
   "source": [
    "x_train[1]"
   ]
  },
  {
   "cell_type": "code",
   "execution_count": 39,
   "id": "67415a77",
   "metadata": {},
   "outputs": [
    {
     "data": {
      "text/plain": [
       "(297960, 28, 28)"
      ]
     },
     "execution_count": 39,
     "metadata": {},
     "output_type": "execute_result"
    }
   ],
   "source": [
    "x_train.shape"
   ]
  },
  {
   "cell_type": "code",
   "execution_count": 41,
   "id": "252649a1",
   "metadata": {},
   "outputs": [],
   "source": [
    "x_train=x_train/255\n",
    "x_test=x_test/255"
   ]
  },
  {
   "cell_type": "code",
   "execution_count": 42,
   "id": "e6afcd80",
   "metadata": {},
   "outputs": [
    {
     "data": {
      "text/plain": [
       "(297960, 784)"
      ]
     },
     "execution_count": 42,
     "metadata": {},
     "output_type": "execute_result"
    }
   ],
   "source": [
    "x_flat=x_train.reshape(len(x_train),28*28)\n",
    "x_flat.shape"
   ]
  },
  {
   "cell_type": "code",
   "execution_count": 44,
   "id": "54a51368",
   "metadata": {},
   "outputs": [
    {
     "data": {
      "text/plain": [
       "(74490, 784)"
      ]
     },
     "execution_count": 44,
     "metadata": {},
     "output_type": "execute_result"
    }
   ],
   "source": [
    "x_test_flat=x_test.reshape(len(x_test),28*28)\n",
    "x_test_flat.shape"
   ]
  },
  {
   "cell_type": "code",
   "execution_count": 45,
   "id": "d853f994",
   "metadata": {},
   "outputs": [
    {
     "data": {
      "text/plain": [
       "array([0.        , 0.        , 0.        , 0.        , 0.        ,\n",
       "       0.        , 0.        , 0.        , 0.        , 0.        ,\n",
       "       0.        , 0.        , 0.        , 0.        , 0.        ,\n",
       "       0.        , 0.        , 0.        , 0.        , 0.        ,\n",
       "       0.        , 0.        , 0.        , 0.        , 0.        ,\n",
       "       0.        , 0.        , 0.        , 0.        , 0.        ,\n",
       "       0.        , 0.        , 0.        , 0.        , 0.        ,\n",
       "       0.        , 0.        , 0.        , 0.        , 0.        ,\n",
       "       0.        , 0.        , 0.        , 0.        , 0.        ,\n",
       "       0.        , 0.        , 0.        , 0.        , 0.        ,\n",
       "       0.        , 0.        , 0.        , 0.        , 0.        ,\n",
       "       0.        , 0.        , 0.        , 0.        , 0.        ,\n",
       "       0.        , 0.        , 0.        , 0.        , 0.        ,\n",
       "       0.        , 0.        , 0.        , 0.        , 0.        ,\n",
       "       0.        , 0.        , 0.        , 0.        , 0.        ,\n",
       "       0.        , 0.        , 0.        , 0.        , 0.        ,\n",
       "       0.        , 0.        , 0.        , 0.        , 0.        ,\n",
       "       0.        , 0.        , 0.        , 0.        , 0.        ,\n",
       "       0.        , 0.        , 0.        , 0.        , 0.        ,\n",
       "       0.        , 0.        , 0.        , 0.        , 0.        ,\n",
       "       0.        , 0.        , 0.        , 0.        , 0.        ,\n",
       "       0.        , 0.        , 0.        , 0.        , 0.        ,\n",
       "       0.        , 0.        , 0.        , 0.        , 0.        ,\n",
       "       0.        , 0.        , 0.        , 0.        , 0.        ,\n",
       "       0.        , 0.        , 0.        , 0.        , 0.        ,\n",
       "       0.        , 0.        , 0.        , 0.        , 0.        ,\n",
       "       0.        , 0.        , 0.        , 0.        , 0.        ,\n",
       "       0.        , 0.        , 0.        , 0.        , 0.        ,\n",
       "       0.        , 0.        , 0.        , 0.        , 0.        ,\n",
       "       0.        , 0.        , 0.        , 0.        , 0.        ,\n",
       "       0.        , 0.        , 0.        , 0.        , 0.        ,\n",
       "       0.        , 0.        , 0.        , 0.        , 0.        ,\n",
       "       0.        , 0.        , 0.        , 0.        , 0.        ,\n",
       "       0.        , 0.        , 0.        , 0.        , 0.        ,\n",
       "       0.        , 0.        , 0.        , 0.        , 0.        ,\n",
       "       0.        , 0.        , 0.        , 0.        , 0.        ,\n",
       "       0.        , 0.        , 0.        , 0.        , 0.        ,\n",
       "       0.        , 0.        , 0.12156863, 0.86666667, 1.        ,\n",
       "       0.74117647, 0.10980392, 0.        , 0.        , 0.        ,\n",
       "       0.        , 0.        , 0.        , 0.        , 0.        ,\n",
       "       0.        , 0.        , 0.        , 0.        , 0.        ,\n",
       "       0.        , 0.        , 0.        , 0.        , 0.        ,\n",
       "       0.        , 0.        , 0.        , 0.        , 0.        ,\n",
       "       0.47058824, 1.        , 1.        , 1.        , 0.66666667,\n",
       "       0.        , 0.        , 0.        , 0.        , 0.        ,\n",
       "       0.        , 0.        , 0.        , 0.        , 0.        ,\n",
       "       0.        , 0.        , 0.        , 0.        , 0.08627451,\n",
       "       0.5372549 , 0.52941176, 0.12941176, 0.02745098, 0.        ,\n",
       "       0.        , 0.        , 0.        , 0.67843137, 1.        ,\n",
       "       1.        , 1.        , 0.76078431, 0.        , 0.        ,\n",
       "       0.        , 0.        , 0.        , 0.        , 0.        ,\n",
       "       0.        , 0.        , 0.        , 0.        , 0.        ,\n",
       "       0.03137255, 0.30588235, 0.8       , 1.        , 1.        ,\n",
       "       0.91764706, 0.12156863, 0.        , 0.        , 0.        ,\n",
       "       0.21960784, 0.85490196, 1.        , 1.        , 1.        ,\n",
       "       0.29803922, 0.        , 0.        , 0.        , 0.        ,\n",
       "       0.        , 0.        , 0.        , 0.        , 0.        ,\n",
       "       0.        , 0.        , 0.13333333, 0.53333333, 1.        ,\n",
       "       1.        , 1.        , 1.        , 1.        , 0.76078431,\n",
       "       0.01176471, 0.        , 0.        , 0.15686275, 0.94901961,\n",
       "       1.        , 1.        , 0.72156863, 0.09411765, 0.        ,\n",
       "       0.        , 0.        , 0.        , 0.        , 0.        ,\n",
       "       0.        , 0.        , 0.        , 0.        , 0.        ,\n",
       "       0.13333333, 0.95294118, 1.        , 1.        , 1.        ,\n",
       "       1.        , 1.        , 1.        , 0.1254902 , 0.        ,\n",
       "       0.        , 0.37254902, 0.96470588, 1.        , 1.        ,\n",
       "       0.60784314, 0.        , 0.        , 0.        , 0.        ,\n",
       "       0.        , 0.        , 0.        , 0.        , 0.        ,\n",
       "       0.        , 0.        , 0.        , 0.28627451, 0.98823529,\n",
       "       1.        , 1.        , 1.        , 1.        , 1.        ,\n",
       "       1.        , 0.25098039, 0.        , 0.00392157, 0.65882353,\n",
       "       1.        , 1.        , 0.97254902, 0.27058824, 0.        ,\n",
       "       0.        , 0.        , 0.        , 0.        , 0.        ,\n",
       "       0.        , 0.        , 0.        , 0.        , 0.        ,\n",
       "       0.02745098, 0.62352941, 1.        , 1.        , 1.        ,\n",
       "       1.        , 1.        , 1.        , 1.        , 0.27058824,\n",
       "       0.        , 0.20784314, 1.        , 1.        , 1.        ,\n",
       "       0.63529412, 0.        , 0.        , 0.        , 0.        ,\n",
       "       0.        , 0.        , 0.        , 0.        , 0.        ,\n",
       "       0.        , 0.        , 0.        , 0.46666667, 1.        ,\n",
       "       1.        , 1.        , 1.        , 1.        , 1.        ,\n",
       "       1.        , 1.        , 0.58431373, 0.        , 0.52941176,\n",
       "       1.        , 1.        , 1.        , 0.14117647, 0.        ,\n",
       "       0.        , 0.        , 0.        , 0.        , 0.        ,\n",
       "       0.        , 0.        , 0.        , 0.        , 0.        ,\n",
       "       0.        , 0.61568627, 1.        , 1.        , 1.        ,\n",
       "       0.97647059, 0.38823529, 0.77647059, 1.        , 1.        ,\n",
       "       0.99607843, 0.44313725, 0.78431373, 1.        , 1.        ,\n",
       "       0.85098039, 0.0627451 , 0.        , 0.        , 0.        ,\n",
       "       0.        , 0.        , 0.        , 0.        , 0.        ,\n",
       "       0.        , 0.        , 0.        , 0.43921569, 0.98823529,\n",
       "       1.        , 1.        , 1.        , 0.65098039, 0.09019608,\n",
       "       0.45882353, 1.        , 1.        , 1.        , 0.90980392,\n",
       "       0.98431373, 1.        , 0.96470588, 0.29803922, 0.        ,\n",
       "       0.        , 0.        , 0.        , 0.        , 0.        ,\n",
       "       0.        , 0.        , 0.        , 0.        , 0.        ,\n",
       "       0.05882353, 0.76862745, 1.        , 1.        , 1.        ,\n",
       "       0.97254902, 0.30980392, 0.        , 0.23137255, 1.        ,\n",
       "       1.        , 1.        , 1.        , 1.        , 1.        ,\n",
       "       0.88235294, 0.02352941, 0.        , 0.        , 0.        ,\n",
       "       0.        , 0.        , 0.        , 0.        , 0.        ,\n",
       "       0.        , 0.        , 0.        , 0.54117647, 1.        ,\n",
       "       1.        , 1.        , 1.        , 0.71764706, 0.05098039,\n",
       "       0.        , 0.1372549 , 0.83921569, 1.        , 1.        ,\n",
       "       1.        , 1.        , 0.91372549, 0.36470588, 0.        ,\n",
       "       0.        , 0.        , 0.        , 0.        , 0.        ,\n",
       "       0.        , 0.        , 0.        , 0.        , 0.        ,\n",
       "       0.        , 0.83137255, 1.        , 1.        , 1.        ,\n",
       "       0.93333333, 0.16470588, 0.        , 0.        , 0.00392157,\n",
       "       0.49411765, 1.        , 1.        , 1.        , 0.99215686,\n",
       "       0.65882353, 0.        , 0.        , 0.        , 0.        ,\n",
       "       0.        , 0.        , 0.        , 0.        , 0.        ,\n",
       "       0.        , 0.        , 0.        , 0.        , 0.83137255,\n",
       "       1.        , 1.        , 0.9254902 , 0.54509804, 0.        ,\n",
       "       0.        , 0.        , 0.        , 0.26666667, 0.91764706,\n",
       "       1.        , 1.        , 0.69019608, 0.        , 0.        ,\n",
       "       0.        , 0.        , 0.        , 0.        , 0.        ,\n",
       "       0.        , 0.        , 0.        , 0.        , 0.        ,\n",
       "       0.        , 0.        , 0.66666667, 1.        , 0.77254902,\n",
       "       0.52941176, 0.03529412, 0.        , 0.        , 0.        ,\n",
       "       0.        , 0.03529412, 0.18039216, 0.41568627, 0.44705882,\n",
       "       0.01176471, 0.        , 0.        , 0.        , 0.        ,\n",
       "       0.        , 0.        , 0.        , 0.        , 0.        ,\n",
       "       0.        , 0.        , 0.        , 0.        , 0.        ,\n",
       "       0.        , 0.        , 0.        , 0.        , 0.        ,\n",
       "       0.        , 0.        , 0.        , 0.        , 0.        ,\n",
       "       0.        , 0.        , 0.        , 0.        , 0.        ,\n",
       "       0.        , 0.        , 0.        , 0.        , 0.        ,\n",
       "       0.        , 0.        , 0.        , 0.        , 0.        ,\n",
       "       0.        , 0.        , 0.        , 0.        , 0.        ,\n",
       "       0.        , 0.        , 0.        , 0.        , 0.        ,\n",
       "       0.        , 0.        , 0.        , 0.        , 0.        ,\n",
       "       0.        , 0.        , 0.        , 0.        , 0.        ,\n",
       "       0.        , 0.        , 0.        , 0.        , 0.        ,\n",
       "       0.        , 0.        , 0.        , 0.        , 0.        ,\n",
       "       0.        , 0.        , 0.        , 0.        , 0.        ,\n",
       "       0.        , 0.        , 0.        , 0.        , 0.        ,\n",
       "       0.        , 0.        , 0.        , 0.        , 0.        ,\n",
       "       0.        , 0.        , 0.        , 0.        , 0.        ,\n",
       "       0.        , 0.        , 0.        , 0.        , 0.        ,\n",
       "       0.        , 0.        , 0.        , 0.        , 0.        ,\n",
       "       0.        , 0.        , 0.        , 0.        , 0.        ,\n",
       "       0.        , 0.        , 0.        , 0.        , 0.        ,\n",
       "       0.        , 0.        , 0.        , 0.        , 0.        ,\n",
       "       0.        , 0.        , 0.        , 0.        , 0.        ,\n",
       "       0.        , 0.        , 0.        , 0.        , 0.        ,\n",
       "       0.        , 0.        , 0.        , 0.        , 0.        ,\n",
       "       0.        , 0.        , 0.        , 0.        , 0.        ,\n",
       "       0.        , 0.        , 0.        , 0.        , 0.        ,\n",
       "       0.        , 0.        , 0.        , 0.        , 0.        ,\n",
       "       0.        , 0.        , 0.        , 0.        , 0.        ,\n",
       "       0.        , 0.        , 0.        , 0.        , 0.        ,\n",
       "       0.        , 0.        , 0.        , 0.        , 0.        ,\n",
       "       0.        , 0.        , 0.        , 0.        , 0.        ,\n",
       "       0.        , 0.        , 0.        , 0.        , 0.        ,\n",
       "       0.        , 0.        , 0.        , 0.        , 0.        ,\n",
       "       0.        , 0.        , 0.        , 0.        ])"
      ]
     },
     "execution_count": 45,
     "metadata": {},
     "output_type": "execute_result"
    }
   ],
   "source": [
    "x_flat[0]"
   ]
  },
  {
   "cell_type": "markdown",
   "id": "fdf5e620",
   "metadata": {},
   "source": [
    "## Defining aphabets with indeves with the help of dictionary"
   ]
  },
  {
   "cell_type": "code",
   "execution_count": 57,
   "id": "c601461e",
   "metadata": {},
   "outputs": [],
   "source": [
    "alphab={0:'A',1:'B',2:'C',3:'D',4:'E',5:'F',6:'G',7:'H',8:'I',9:'J',10:'K',11:'L',12:'M',13:'N',14:'O',15:'P',16:'Q',17:'R',18:'S',19:'T',20:'U',21:'V',22:'W',23:'X', 24:'Y',25:'Z'}"
   ]
  },
  {
   "cell_type": "markdown",
   "id": "d20e455a",
   "metadata": {},
   "source": [
    "### Layers, compile, fit"
   ]
  },
  {
   "cell_type": "code",
   "execution_count": 46,
   "id": "fa08da08",
   "metadata": {},
   "outputs": [
    {
     "name": "stdout",
     "output_type": "stream",
     "text": [
      "Epoch 1/5\n",
      "9312/9312 [==============================] - 16s 2ms/step - loss: 0.5778 - accuracy: 0.8491\n",
      "Epoch 2/5\n",
      "9312/9312 [==============================] - 15s 2ms/step - loss: 0.4855 - accuracy: 0.8747\n",
      "Epoch 3/5\n",
      "9312/9312 [==============================] - 15s 2ms/step - loss: 0.4753 - accuracy: 0.8780\n",
      "Epoch 4/5\n",
      "9312/9312 [==============================] - 15s 2ms/step - loss: 0.4700 - accuracy: 0.8794\n",
      "Epoch 5/5\n",
      "9312/9312 [==============================] - 15s 2ms/step - loss: 0.4664 - accuracy: 0.8803\n"
     ]
    },
    {
     "data": {
      "text/plain": [
       "<keras.callbacks.History at 0x2354c3f5550>"
      ]
     },
     "execution_count": 46,
     "metadata": {},
     "output_type": "execute_result"
    }
   ],
   "source": [
    "play=keras.Sequential([\n",
    "    keras.layers.Dense(26, input_shape=(784,), activation=\"sigmoid\")\n",
    "])\n",
    "\n",
    "play.compile( optimizer='adam', \n",
    "              loss='sparse_categorical_crossentropy',\n",
    "              metrics=['accuracy']\n",
    ")\n",
    "\n",
    "play.fit(x_flat, y_train,epochs=5)"
   ]
  },
  {
   "cell_type": "code",
   "execution_count": 91,
   "id": "5fd797a8",
   "metadata": {},
   "outputs": [
    {
     "name": "stdout",
     "output_type": "stream",
     "text": [
      "2328/2328 [==============================] - 3s 1ms/step - loss: 0.4790 - accuracy: 0.8789\n"
     ]
    }
   ],
   "source": [
    "acc=play.evaluate(x_test_flat,y_test)"
   ]
  },
  {
   "cell_type": "code",
   "execution_count": 103,
   "id": "41458f67",
   "metadata": {},
   "outputs": [
    {
     "data": {
      "text/plain": [
       "<matplotlib.image.AxesImage at 0x2354dfc1490>"
      ]
     },
     "execution_count": 103,
     "metadata": {},
     "output_type": "execute_result"
    },
    {
     "data": {
      "image/png": "[encoded data removed]",
      "text/plain": [
       "<Figure size 480x480 with 1 Axes>"
      ]
     },
     "metadata": {},
     "output_type": "display_data"
    }
   ],
   "source": [
    "plt.matshow(x_test[2])"
   ]
  },
  {
   "cell_type": "code",
   "execution_count": 50,
   "id": "c5801ebd",
   "metadata": {},
   "outputs": [
    {
     "name": "stdout",
     "output_type": "stream",
     "text": [
      "2328/2328 [==============================] - 3s 1ms/step\n"
     ]
    }
   ],
   "source": [
    "y_predict=play.predict(x_test_flat)"
   ]
  },
  {
   "cell_type": "code",
   "execution_count": 51,
   "id": "ef58343d",
   "metadata": {},
   "outputs": [
    {
     "data": {
      "text/plain": [
       "array([7.9764466e-04, 1.9386072e-03, 1.2332911e-02, 3.1125205e-06,\n",
       "       7.1691535e-02, 1.1527211e-05, 2.9489519e-02, 1.2879393e-01,\n",
       "       1.9977925e-16, 4.8661627e-07, 3.1539489e-02, 4.1312803e-10,\n",
       "       3.7048516e-01, 9.7185975e-01, 1.1153396e-02, 2.3611647e-04,\n",
       "       1.8029845e-01, 1.1468328e-01, 2.3910553e-04, 1.7395149e-07,\n",
       "       5.7422286e-01, 1.1924732e-03, 5.1292360e-01, 8.6546734e-09,\n",
       "       1.4701389e-05, 5.3856906e-09], dtype=float32)"
      ]
     },
     "execution_count": 51,
     "metadata": {},
     "output_type": "execute_result"
    }
   ],
   "source": [
    "y_predict[2]"
   ]
  },
  {
   "cell_type": "code",
   "execution_count": 101,
   "id": "4f11935e",
   "metadata": {},
   "outputs": [
    {
     "data": {
      "text/plain": [
       "13"
      ]
     },
     "execution_count": 101,
     "metadata": {},
     "output_type": "execute_result"
    }
   ],
   "source": [
    "alpha=np.argmax(y_predict[2])\n",
    "alpha"
   ]
  },
  {
   "cell_type": "code",
   "execution_count": 102,
   "id": "3972ca72",
   "metadata": {},
   "outputs": [
    {
     "name": "stdout",
     "output_type": "stream",
     "text": [
      "The Alphabet is N\n"
     ]
    }
   ],
   "source": [
    "print(f\"The Alphabet is {alphab[alpha]}\")"
   ]
  },
  {
   "cell_type": "code",
   "execution_count": 88,
   "id": "17710400",
   "metadata": {},
   "outputs": [
    {
     "data": {
      "text/plain": [
       "[22, 15, 13, 20, 12]"
      ]
     },
     "execution_count": 88,
     "metadata": {},
     "output_type": "execute_result"
    }
   ],
   "source": [
    "y_predict_label=[np.argmax(val) for val in y_predict]\n",
    "y_predict_label[:5]"
   ]
  },
  {
   "cell_type": "code",
   "execution_count": 89,
   "id": "fe3f747f",
   "metadata": {},
   "outputs": [
    {
     "data": {
      "text/plain": [
       "80854      7\n",
       "50076      3\n",
       "139789    13\n",
       "328842    20\n",
       "116898    12\n",
       "Name: 0, dtype: int64"
      ]
     },
     "execution_count": 89,
     "metadata": {},
     "output_type": "execute_result"
    }
   ],
   "source": [
    "y_test[:5]"
   ]
  },
  {
   "cell_type": "code",
   "execution_count": 121,
   "id": "a2eddb42",
   "metadata": {},
   "outputs": [
    {
     "data": {
      "text/plain": [
       "<tf.Tensor: shape=(26, 26), dtype=int32, numpy=\n",
       "array([[ 2334,     9,     1,     5,     8,     1,     7,    63,     0,\n",
       "            1,    16,     4,    56,    35,    10,    60,    12,    15,\n",
       "           16,     1,    17,     3,     9,    18,    25,     1],\n",
       "       [   25,  1348,    14,    29,    26,     0,     0,    17,     0,\n",
       "            4,    11,     2,    15,     3,    53,    12,     5,    14,\n",
       "           84,     0,    17,     0,     0,     4,     5,    10],\n",
       "       [    3,    22,  4194,     1,    37,     0,    21,     1,     0,\n",
       "            2,    20,    53,     2,    11,   130,    34,     1,    28,\n",
       "           19,    11,    52,     0,     6,     1,     3,     4],\n",
       "       [    6,     9,     0,  1530,     2,     0,     0,     0,     0,\n",
       "           27,     2,     2,    11,     1,   218,    26,     6,     0,\n",
       "           35,     1,    21,     0,     1,     7,     2,     4],\n",
       "       [   15,    24,   103,    10,  1800,     1,    14,     1,     0,\n",
       "            6,    22,    21,     2,    16,    13,     6,     6,    59,\n",
       "           47,     1,    13,     0,    12,     2,     7,    10],\n",
       "       [    2,     0,     1,     0,     5,   178,     0,     0,     0,\n",
       "            0,     0,     0,     0,     1,     1,    20,     0,     2,\n",
       "            0,    12,     1,     1,     1,     0,     0,     0],\n",
       "       [   12,     9,    49,     2,    20,     0,   853,     3,     0,\n",
       "            3,     0,    10,     0,     3,    24,     4,    49,     2,\n",
       "           84,     0,    24,     0,    11,     0,     0,     0],\n",
       "       [   70,     6,     3,     1,     6,     0,     1,  1090,     0,\n",
       "            3,     5,     2,    51,   108,     1,    18,     1,     5,\n",
       "            3,     1,    41,     1,    20,     2,    30,     1],\n",
       "       [    0,     0,     1,     1,     1,     0,     0,     0,   178,\n",
       "            7,     0,     0,     0,     0,     0,     0,     2,     0,\n",
       "           10,     1,     0,     0,     0,     1,     2,     2],\n",
       "       [    5,     5,    11,    23,     8,     0,     1,     2,    12,\n",
       "         1328,     1,     7,     3,     1,    12,     5,     5,     1,\n",
       "          146,    44,    57,     1,     3,     1,    15,     4],\n",
       "       [   14,     4,    33,     0,    13,     0,     0,    17,     0,\n",
       "            0,   892,    23,     6,    28,     0,     3,     0,    69,\n",
       "            3,     4,     6,     0,     3,    12,     8,     0],\n",
       "       [    4,     1,    28,     3,     1,     0,     2,     0,     5,\n",
       "            5,     6,  2249,     0,     3,     0,     0,     0,     6,\n",
       "            5,     0,    13,     1,     4,     6,     8,     1],\n",
       "       [   36,     0,     1,     4,     1,     1,     1,    51,     0,\n",
       "            0,     2,     0,  2197,    55,    20,    18,     2,    12,\n",
       "            0,    11,    13,     1,     8,     0,    11,     0],\n",
       "       [   98,     1,     0,    19,     7,     0,     2,   110,     0,\n",
       "            7,    27,    12,   104,  3052,    17,    15,     8,    17,\n",
       "            7,     4,   111,    22,   183,     9,    12,     1],\n",
       "       [   11,    22,    73,   110,    12,     0,     5,     5,     0,\n",
       "            7,     3,     2,    22,    19, 11216,    23,    11,    15,\n",
       "           46,     1,    71,     0,     6,     0,     1,     1],\n",
       "       [   13,     0,     8,    21,     1,     0,     0,     1,     0,\n",
       "            1,     2,     0,     0,     5,     9,  3567,     4,    11,\n",
       "            9,   126,     1,     1,     2,     2,    57,     0],\n",
       "       [   13,     2,     6,    10,     3,     0,    17,     0,     0,\n",
       "            2,     0,     0,     0,     1,    70,    23,   912,    25,\n",
       "           20,     2,    46,     0,     4,     0,     0,     1],\n",
       "       [   85,    29,    37,     7,    51,     0,     0,    14,     1,\n",
       "            2,    77,    10,    24,    31,     3,    71,    22,  1785,\n",
       "            8,    10,    12,     1,    10,    18,     2,    14],\n",
       "       [    9,    64,    55,    56,    25,     0,    28,     3,     2,\n",
       "          168,    13,    11,     5,     9,    62,    22,    32,    14,\n",
       "         9033,    16,    29,     1,     6,     6,    17,     2],\n",
       "       [    6,     0,    11,     0,     4,     4,     0,    18,     0,\n",
       "           10,     2,     0,    23,     1,     0,   102,     4,     0,\n",
       "           14,  4197,     0,     0,     2,     0,    52,     0],\n",
       "       [   22,     1,    11,    53,    12,     0,    16,    39,     0,\n",
       "           10,     9,    23,    19,    71,   110,     2,    10,    45,\n",
       "           18,     2,  5187,    19,   184,     5,     4,     9],\n",
       "       [    0,     0,     0,     0,     4,     0,     0,     4,     0,\n",
       "            0,    10,     2,     0,    20,     0,     1,     0,     1,\n",
       "            2,     1,    24,   738,    16,     0,     3,     0],\n",
       "       [    8,     1,     2,    12,     6,     1,     2,    12,     0,\n",
       "            3,     4,    12,    12,   152,     4,     5,     3,     3,\n",
       "            4,     2,   112,     4,  1822,     1,     2,     0],\n",
       "       [   31,     6,     0,     4,     5,     0,     0,     2,     2,\n",
       "            1,    56,    21,     1,     8,     0,     5,     1,    37,\n",
       "           37,     4,     5,    10,    10,   981,    71,    10],\n",
       "       [    7,     4,     1,     4,     1,     0,     0,    17,     0,\n",
       "           55,    14,     6,     8,     6,     7,    39,     1,     2,\n",
       "           20,   120,     7,    23,     4,    11,  1803,     2],\n",
       "       [   11,    22,     1,    16,    22,     0,     1,     6,    15,\n",
       "           46,     0,    14,     3,    11,     1,     3,     8,    22,\n",
       "           17,     2,     3,     0,     0,     7,     3,  1002]])>"
      ]
     },
     "execution_count": 121,
     "metadata": {},
     "output_type": "execute_result"
    }
   ],
   "source": [
    "cfm=tf.math.confusion_matrix(labels=y_test,predictions=y_predict_label);\n",
    "cfm"
   ]
  },
  {
   "cell_type": "code",
   "execution_count": 95,
   "id": "05c21024",
   "metadata": {},
   "outputs": [
    {
     "name": "stdout",
     "output_type": "stream",
     "text": [
      "Accuracy is 87.88562417030334%\n"
     ]
    }
   ],
   "source": [
    "print(f\"Accuracy is {acc[1]*100}%\")"
   ]
  },
  {
   "cell_type": "markdown",
   "id": "27c8f9a1",
   "metadata": {},
   "source": [
    "## With Hidden layers"
   ]
  },
  {
   "cell_type": "code",
   "execution_count": 133,
   "id": "9bdb8408",
   "metadata": {},
   "outputs": [
    {
     "name": "stdout",
     "output_type": "stream",
     "text": [
      "Epoch 1/5\n",
      "9312/9312 [==============================] - 20s 2ms/step - loss: 0.2549 - accuracy: 0.9279\n",
      "Epoch 2/5\n",
      "9312/9312 [==============================] - 20s 2ms/step - loss: 0.1200 - accuracy: 0.9651\n",
      "Epoch 3/5\n",
      "9312/9312 [==============================] - 20s 2ms/step - loss: 0.0940 - accuracy: 0.9721\n",
      "Epoch 4/5\n",
      "9312/9312 [==============================] - 19s 2ms/step - loss: 0.0793 - accuracy: 0.9764\n",
      "Epoch 5/5\n",
      "9312/9312 [==============================] - 20s 2ms/step - loss: 0.0694 - accuracy: 0.9788\n"
     ]
    },
    {
     "data": {
      "text/plain": [
       "<keras.callbacks.History at 0x2375460e190>"
      ]
     },
     "execution_count": 133,
     "metadata": {},
     "output_type": "execute_result"
    }
   ],
   "source": [
    "play=keras.Sequential([\n",
    "    keras.layers.Dense(64,  activation=\"relu\"),\n",
    "    keras.layers.Dense(268,  activation=\"relu\"),\n",
    "    keras.layers.Dense(26, activation=\"sigmoid\")\n",
    "])\n",
    "\n",
    "play.compile( optimizer='adam', \n",
    "              loss='sparse_categorical_crossentropy',\n",
    "              metrics=['accuracy']\n",
    ")\n",
    "\n",
    "play.fit(x_flat, y_train,epochs=5)"
   ]
  },
  {
   "cell_type": "code",
   "execution_count": 134,
   "id": "535d377b",
   "metadata": {},
   "outputs": [
    {
     "name": "stdout",
     "output_type": "stream",
     "text": [
      "2328/2328 [==============================] - 4s 1ms/step - loss: 0.0963 - accuracy: 0.9730\n"
     ]
    }
   ],
   "source": [
    "acc1=play.evaluate(x_test_flat,y_test)"
   ]
  },
  {
   "cell_type": "code",
   "execution_count": 135,
   "id": "a3c68fc4",
   "metadata": {},
   "outputs": [
    {
     "name": "stdout",
     "output_type": "stream",
     "text": [
      "Accuracy is 97.29627966880798%\n"
     ]
    }
   ],
   "source": [
    "print(f\"Accuracy is {acc1[1]*100}%\")"
   ]
  },
  {
   "cell_type": "code",
   "execution_count": 136,
   "id": "2f849092",
   "metadata": {},
   "outputs": [
    {
     "name": "stdout",
     "output_type": "stream",
     "text": [
      "2328/2328 [==============================] - 3s 1ms/step\n"
     ]
    },
    {
     "data": {
      "text/plain": [
       "array([3.2318274e-03, 2.4625879e-07, 4.8131507e-05, 1.6775448e-09,\n",
       "       1.9720415e-05, 1.6394098e-09, 9.1783593e-05, 1.1764105e-01,\n",
       "       5.2205516e-15, 1.3164271e-04, 2.1746495e-01, 2.1415763e-05,\n",
       "       7.9019922e-01, 9.9967700e-01, 2.5672807e-06, 1.4537448e-09,\n",
       "       2.9489305e-04, 2.4545536e-04, 2.0997823e-07, 4.5234154e-04,\n",
       "       1.5984483e-02, 3.2614389e-06, 8.9765418e-01, 2.5870947e-03,\n",
       "       3.9857589e-02, 3.0457519e-09], dtype=float32)"
      ]
     },
     "execution_count": 136,
     "metadata": {},
     "output_type": "execute_result"
    }
   ],
   "source": [
    "y1_predict=play.predict(x_test_flat)\n",
    "y1_predict[2]"
   ]
  },
  {
   "cell_type": "code",
   "execution_count": 137,
   "id": "b010a92b",
   "metadata": {},
   "outputs": [
    {
     "data": {
      "text/plain": [
       "[7, 3, 13, 20, 12]"
      ]
     },
     "execution_count": 137,
     "metadata": {},
     "output_type": "execute_result"
    }
   ],
   "source": [
    "y1_predict_label=[np.argmax(val) for val in y1_predict]\n",
    "y1_predict_label[:5]"
   ]
  },
  {
   "cell_type": "code",
   "execution_count": 138,
   "id": "700e8946",
   "metadata": {},
   "outputs": [
    {
     "data": {
      "text/plain": [
       "'N'"
      ]
     },
     "execution_count": 138,
     "metadata": {},
     "output_type": "execute_result"
    }
   ],
   "source": [
    "alphab[np.argmax(y1_predict[2])]"
   ]
  },
  {
   "cell_type": "code",
   "execution_count": 139,
   "id": "73b4f62a",
   "metadata": {},
   "outputs": [
    {
     "data": {
      "text/plain": [
       "80854      7\n",
       "50076      3\n",
       "139789    13\n",
       "328842    20\n",
       "116898    12\n",
       "Name: 0, dtype: int64"
      ]
     },
     "execution_count": 139,
     "metadata": {},
     "output_type": "execute_result"
    }
   ],
   "source": [
    "y_test[:5]"
   ]
  },
  {
   "cell_type": "code",
   "execution_count": 140,
   "id": "58595293",
   "metadata": {},
   "outputs": [
    {
     "data": {
      "text/plain": [
       "<tf.Tensor: shape=(26, 26), dtype=int32, numpy=\n",
       "array([[ 2639,     8,     0,     3,     2,     0,     8,    16,     0,\n",
       "            1,     3,     2,    20,     5,     3,     2,     0,     7,\n",
       "            0,     1,     2,     0,     2,     3,     0,     0],\n",
       "       [    3,  1629,     4,    10,     6,     0,    16,     2,     0,\n",
       "            0,     0,     0,     0,     0,    13,     1,     0,     3,\n",
       "            7,     0,     1,     0,     0,     1,     0,     2],\n",
       "       [    2,     3,  4580,     0,    28,     0,     6,     0,     0,\n",
       "            2,     0,    14,     0,     0,    14,     1,     0,     0,\n",
       "            1,     0,     3,     0,     1,     0,     0,     1],\n",
       "       [    0,     1,     2,  1693,     0,     0,     0,     0,     0,\n",
       "            4,     0,     0,     1,     0,   196,     7,     0,     2,\n",
       "            0,     0,     2,     0,     0,     0,     1,     2],\n",
       "       [    0,     6,     9,     0,  2160,     0,    12,     0,     0,\n",
       "            2,     0,     4,     1,     1,     0,     0,     0,     1,\n",
       "            7,     0,     2,     0,     0,     0,     3,     3],\n",
       "       [    0,     0,     2,     0,    19,   197,     0,     0,     0,\n",
       "            0,     0,     1,     0,     0,     0,     4,     0,     0,\n",
       "            1,     1,     0,     0,     0,     0,     0,     0],\n",
       "       [    0,     5,    16,     1,     5,     0,  1110,     1,     0,\n",
       "            2,     1,     1,     0,     1,     1,     0,    11,     0,\n",
       "            7,     0,     0,     0,     0,     0,     0,     0],\n",
       "       [    4,     2,     0,     0,     4,     0,     2,  1383,     0,\n",
       "            5,     7,     0,    33,    13,     0,     0,     0,     0,\n",
       "            0,     1,     7,     1,     3,     3,     2,     0],\n",
       "       [    0,     0,     2,     0,     0,     0,     0,     0,   185,\n",
       "            6,     0,     0,     0,     0,     0,     0,     0,     0,\n",
       "            1,     1,     0,     0,     0,     1,     1,     9],\n",
       "       [    0,     0,     2,     0,     0,     0,     1,     0,     4,\n",
       "         1618,     0,     0,     0,     0,     1,     1,     0,     0,\n",
       "           44,     9,    18,     0,     1,     0,     2,     0],\n",
       "       [    0,     0,     4,     0,     7,     0,     2,     3,     0,\n",
       "            1,  1079,     6,     6,     0,     0,     2,     0,     7,\n",
       "            1,     3,     1,     1,     2,    12,     1,     0],\n",
       "       [    1,     1,    25,     0,     2,     0,     0,     2,     0,\n",
       "            1,     2,  2303,     0,     0,     0,     0,     0,     0,\n",
       "            2,     1,     2,     0,     1,     6,     0,     2],\n",
       "       [    7,     4,     0,     0,     0,     0,     6,     3,     0,\n",
       "            0,     3,     0,  2398,     3,     3,     0,     0,     1,\n",
       "            0,     2,     9,     0,     3,     0,     1,     2],\n",
       "       [    0,     1,     3,     1,     0,     0,     2,    28,     0,\n",
       "            7,     9,     0,    37,  3675,     8,     0,     0,     4,\n",
       "            0,     0,    22,     0,    41,     2,     5,     0],\n",
       "       [    0,     2,    12,    21,     3,     1,    10,     1,     0,\n",
       "            4,     0,     0,     1,     0, 11602,     0,     1,     0,\n",
       "            1,     0,    22,     0,     0,     0,     0,     1],\n",
       "       [    8,     0,     8,    15,     1,     1,     3,     4,     0,\n",
       "            1,     0,     0,     0,     1,    10,  3759,     6,     2,\n",
       "            5,     9,     0,     0,     0,     2,     6,     0],\n",
       "       [    1,     0,     5,     1,     0,     0,    23,     0,     0,\n",
       "            0,     0,     0,     0,     0,    48,     1,  1071,     3,\n",
       "            0,     0,     3,     0,     1,     0,     0,     0],\n",
       "       [   24,    29,    11,     2,    23,     0,     1,     0,     0,\n",
       "            0,    27,     1,    14,     2,     1,    14,     6,  2149,\n",
       "            1,     0,     5,     0,     2,     3,     0,     9],\n",
       "       [    0,     6,    15,     1,    19,     1,    44,     1,     0,\n",
       "           14,     0,     2,     0,     1,     8,     3,     3,     0,\n",
       "         9558,     3,     3,     0,     2,     2,     0,     2],\n",
       "       [    0,     0,     5,     0,     2,     3,     1,     0,     1,\n",
       "            6,     1,     1,     1,     0,     0,     5,     1,     1,\n",
       "            0,  4398,     0,     0,     0,     6,    18,     0],\n",
       "       [    0,     0,     8,     1,     3,     0,     4,     5,     0,\n",
       "            8,     3,     1,     2,     0,    17,     0,     1,     1,\n",
       "            0,     1,  5791,     6,    18,     0,     7,     4],\n",
       "       [    0,     0,     0,     0,     0,     0,     0,     0,     0,\n",
       "            1,     2,     1,     0,     0,     0,     0,     0,     0,\n",
       "            0,     0,     1,   807,     5,     1,     8,     0],\n",
       "       [    0,     2,     0,     2,     0,     0,     1,     1,     0,\n",
       "            0,     1,     3,     0,    28,     0,     0,     0,     0,\n",
       "            0,     0,    21,     0,  2128,     0,     2,     0],\n",
       "       [    1,     0,     0,     0,     0,     0,     0,     0,     0,\n",
       "            0,    19,     0,     0,     0,     0,     0,     1,     3,\n",
       "            1,     0,     0,     0,     0,  1276,     2,     5],\n",
       "       [    0,     1,     1,     0,     1,     0,     0,     7,     0,\n",
       "           10,    14,     0,     0,     0,     0,     7,     0,     0,\n",
       "            3,     7,     1,     2,     2,    19,  2087,     0],\n",
       "       [    1,    11,     0,     0,     5,     0,     3,     0,     2,\n",
       "            0,     0,     5,     0,     0,     0,     0,     0,     2,\n",
       "            1,     0,     0,     0,     0,     5,     0,  1201]])>"
      ]
     },
     "execution_count": 140,
     "metadata": {},
     "output_type": "execute_result"
    }
   ],
   "source": [
    "cfm1=tf.math.confusion_matrix(labels=y_test, predictions=y1_predict_label)\n",
    "cfm1"
   ]
  },
  {
   "cell_type": "code",
   "execution_count": null,
   "id": "eb519985",
   "metadata": {},
   "outputs": [],
   "source": []
  }
 ],
 "metadata": {
  "kernelspec": {
   "display_name": "Python 3 (ipykernel)",
   "language": "python",
   "name": "python3"
  },
  "language_info": {
   "codemirror_mode": {
    "name": "ipython",
    "version": 3
   },
   "file_extension": ".py",
   "mimetype": "text/x-python",
   "name": "python",
   "nbconvert_exporter": "python",
   "pygments_lexer": "ipython3",
   "version": "3.11.3"
  }
 },
 "nbformat": 4,
 "nbformat_minor": 5
}
